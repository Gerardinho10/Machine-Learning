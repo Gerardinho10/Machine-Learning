{
 "cells": [
  {
   "cell_type": "code",
   "execution_count": 1,
   "metadata": {},
   "outputs": [],
   "source": [
    "import boto3\n",
    "import pandas as pd\n",
    "from sagemaker import get_execution_role\n",
    "\n",
    "role = get_execution_role()\n",
    "bucket='sagemakergonzalez'\n",
    "data_key = 'txtGuizmo.txt'\n",
    "data_location = 's3://{}/{}'.format(bucket, data_key)"
   ]
  },
  {
   "cell_type": "code",
   "execution_count": 2,
   "metadata": {},
   "outputs": [],
   "source": [
    "texte = ('txtGuizmo2 court.txt')"
   ]
  },
  {
   "cell_type": "code",
   "execution_count": 3,
   "metadata": {},
   "outputs": [],
   "source": [
    "file = open(texte, \"r\")\n",
    "data = file.read()"
   ]
  },
  {
   "cell_type": "code",
   "execution_count": 4,
   "metadata": {},
   "outputs": [],
   "source": [
    "data = data.replace('\\n', ' ')\n",
    "data2 = data  #.replace(\"'\", ' ')"
   ]
  },
  {
   "cell_type": "code",
   "execution_count": 5,
   "metadata": {},
   "outputs": [
    {
     "data": {
      "text/plain": [
       "str"
      ]
     },
     "execution_count": 5,
     "metadata": {},
     "output_type": "execute_result"
    }
   ],
   "source": [
    "type(data2)"
   ]
  },
  {
   "cell_type": "code",
   "execution_count": 6,
   "metadata": {},
   "outputs": [],
   "source": [
    "import pandas as pd\n",
    "import os\n",
    "from nltk.corpus import stopwords\n",
    "from textblob import TextBlob\n",
    "from textblob import Word\n",
    "from vaderSentiment.vaderSentiment import SentimentIntensityAnalyzer\n",
    "\n",
    "pd.options.display.max_colwidth = 17\n",
    "analyzer = SentimentIntensityAnalyzer()"
   ]
  },
  {
   "cell_type": "code",
   "execution_count": 7,
   "metadata": {},
   "outputs": [
    {
     "name": "stdout",
     "output_type": "stream",
     "text": [
      "Pour la conso c'est minimum 10G, pigé ? Dix grammes de zeb' dans le cerveau Je sais que j'ai fait du mal Je sais que j'ai fait du sale Quand je dormais dans la cave J'ai vu maman verser des larmes J'ai assisté au drame De la drogue et des armes Des mecs qui se faisaient découper Comme des jambons de Parme Motherfucker bang bang c'est comme ça dans ma rue Je pourrais prendre perpet' j'suis bourré quand j'allume Mes tits-pe mettent des Play 4 dans des sacs en alu' On arrive et on fait l'taff propre et sans bavure (Bendo !) Tous les jours je fais l'cash, bah ouais j'ai d'l'allure J'suis ruché avec mes gangstas fonce-dé sur la lune On a fumé d'la ganja, igo j'suis dans ma bulle Nous invite pas à ta fiesta, on va t'niquer ta pute Dix grammes de zeb' dans le cerveau Vingt grammes de shit dans le calecif Ouais tous mes rabzas, mes négros Sont dans le vol et le trafic Nique sa mère la juge et son pote le proc' Vite amène la thune ou je sors le glock Cigarette allumée J'inhalais ma fumée Tranquillement et v'la qu'les porcs me coffrent Putain, j'ai toujours grandi dans le chahut Et trop tôt j'ai quitté le bahut Je connais tous les coins de ma rue Sur la tête du petit que j'ai pas eu Putain La vie d'ma bière Il m'faut le butin Alors vide la caisse Et tes Louboutin Mon frère veut les mêmes alors tu les enlèves vite fait Avant qu'j'te nique ta mère C'est quoi les bails, c'est quoi les business ? Toujours vouloir plus me file un big stress Défoncé dans ma bulle je vis que d'ivresse Tous ces fils de putes pourront jamais m'prendre de vitesse Faut qu'je fume, faut qu'je fume Pour la conso c'est minimum 10G ! Faut qu'je fume, faut qu'j'me fume C'est minimum 10G, j'espère qu'ils ont pigé Négro j'suis obligé ! (J'agis comme un trisomique) Bendo ! Bendo ! (J'agis comme un trisomique) Bendo ! Bendo ! Bendo !Bendo ! Niquez vos races moi j'ai plus d'temps à perdre Ca fait vingt-quatre ans que je nage dans la merde Bendo ! Bendo ! Bendo ! Bendo ! Bendo ! Guizmo, juste pour vous dire wAllah Tous les styles musicaux j'fais ça mieux qu'vous Vous êtes des p'tits pour moi J'ai même pas encore vingt-cinq ans Et vous avez déjà presque trente ans Mais vous êtes des p'tits pour moi Comment vous rappez, vos punchlines de merde Tous ces trucs là, là Là, là bientôt j'fais un featuring avec un raï-man Même lui il vous met à l'amende ma gueule Tu vois c'que j'veux dire ? Voilà vous êtes des petits Bendo, bendo, bendo, hein ? Pour la conso c'est minimum 10G, j'espère qu'ils ont pigé C'est pas sorcier comme Jamy bande de bâtards Ok, VLG, la ZUP, la Redoute, Carter On est ensemble ça bouge pas Cité rose, tout le monde autour de moi Bilou prod', barbare empire Tous mes négros, tous mes négros, tous mes négros ZER, bastos, D-Max, Sicklips, Axel YONEA WILLY WILLY YONEA GP Gangsta's mother fuck [Intro] GPgangst'z, GPgang man, Y&amp;W, GPG Guizi Ouzou bang 11h43, hein C'est pour tout mes gars ca 9-4, 9-2 Le chamane a décidé que c'était bientôt fini J'enchaîne les cigarettes et j'passe des nuits a l'hôpital Et puis j'ai commandé un de ses dernier 9 milli Avant de m'arracher, faut canarder les faux qui parlent Enterrez moi au Bled, mettez du Bob Marley Et dites a mes soldats que j'veux que personne pleure La vie n'est qu'une étape, la mort est inévitable Je vais rejoindre mes proche parce que personne meurt J'ai niqué ma jeunesse, en mon âme et conscience J'me prenais pour une vedette J'avais aucun bon sens J'ai niqué des belettes en les payant comptant J'ai perdu ma santé , ma te-té et mon temps Ah merde, j'ai séché mes larmes et j'ai ouvert mes bras Je l'attend calmement Mais j'm'en bas les couilles , tant que d'ici là, j'ai le temps de revoir maman Protégez les vôtres, je protégerais les miens, gangst'z J'm'appelle Guizmo, j'vous dit salam, j'ai fait du fric avec des rimes de dingues Sept ans, j'veux ramasser ma bille, j'suis tombé sur une p'tite seringue Toute ma vie, c'est la de-mer, dans l'accident y'a deux morts J'crois que je manque de repères et que j'ai trop de remords J'me faufile comme le renard, tu veux du biff, je veux de l'or Ils étaient pas là ces connards quand le Guizi dormait dehors Et j'en ai marre de ces commères, pour moi c'est tous des vipères Je roule un joint sur le vieux port, j'remonte à Paname en vitesse Tu veux Loubou, j'veux Adidas, j'ai évolué dans une p'tite tess Un coup de feu mais qu'est-c'qui s'passe ? Ça a tiré pour le business Sur le terrain, j'suis efficace, j'ai refourgué de la zipette Rien à foutre de tes p'tites tass', je m'occupe des embrouilles qui traînent J'suis capuché dans l'noir, j'me suis buté tant d'fois 30 euros, quelques copains, j'me suis dépucelé dans l'bois Putain, une sale enfance pas comme mes camarades de classe Moi, j'suis un sale bâtard tenace, un pro du tabassage de MIC {'neg': 0.038, 'neu': 0.954, 'pos': 0.008, 'compound': -0.9784}\n"
     ]
    }
   ],
   "source": [
    "vs = analyzer.polarity_scores(data2)\n",
    "print(\"{:-<65} {}\".format(data2, str(vs)))"
   ]
  },
  {
   "cell_type": "code",
   "execution_count": 28,
   "metadata": {},
   "outputs": [],
   "source": [
    "punchs = ('guizmo_punchs_court.txt')"
   ]
  },
  {
   "cell_type": "code",
   "execution_count": 29,
   "metadata": {},
   "outputs": [],
   "source": [
    "file = open(punchs, \"r\")\n",
    "data = file.read()"
   ]
  },
  {
   "cell_type": "code",
   "execution_count": 30,
   "metadata": {},
   "outputs": [],
   "source": [
    "data = data.replace('\\n', ' ')\n",
    "data2 = data  #.replace(\"'\", ' ')"
   ]
  },
  {
   "cell_type": "code",
   "execution_count": 31,
   "metadata": {},
   "outputs": [],
   "source": [
    "def Convert(string): \n",
    "    li = list(string.split(\",\")) \n",
    "    return li \n",
    "\n",
    "sentences = Convert(data2)"
   ]
  },
  {
   "cell_type": "code",
   "execution_count": 32,
   "metadata": {},
   "outputs": [
    {
     "data": {
      "text/plain": [
       "[\" Je sais que j'ai fait du mal \",\n",
       " \"  Je sais que j'ai fait du sale \",\n",
       " '  Quand je dormais dans la cave ',\n",
       " \"  J'ai vu maman verser des larmes \",\n",
       " \"  J'ai assisté au drame \",\n",
       " '  De la drogue et des armes ',\n",
       " '  Des mecs qui se faisaient découper ',\n",
       " '  Comme des jambons de Parme ',\n",
       " \"  Motherfucker bang bang c'est comme ça dans ma rue \",\n",
       " \"  Je pourrais prendre perpet' j'suis bourré quand j'allume \",\n",
       " \"  Mes tits-pe mettent des Play 4 dans des sacs en alu' \",\n",
       " \"  On arrive et on fait l'taff propre et sans bavure (Bendo !) \",\n",
       " \"  Tous les jours je fais l'cash\",\n",
       " \" bah ouais j'ai d'l'allure \",\n",
       " \"  J'suis ruché avec mes gangstas fonce-dé sur la lune \",\n",
       " \"  On a fumé d'la ganja\",\n",
       " \" igo j'suis dans ma bulle \",\n",
       " '  Nous invite pas à ta fiesta',\n",
       " \" on va t'niquer ta pute \",\n",
       " \"  Dix grammes de zeb' dans le cerveau \",\n",
       " '  Vingt grammes de shit dans le calecif ',\n",
       " '  Ouais tous mes rabzas',\n",
       " ' mes négros ',\n",
       " '  Sont dans le vol et le trafic ',\n",
       " \"  Nique sa mère la juge et son pote le proc' \",\n",
       " '  Vite amène la thune ou je sors le glock ',\n",
       " '  Cigarette allumée ',\n",
       " \"  J'inhalais ma fumée \",\n",
       " \"  Tranquillement et v'la qu'les porcs me coffrent \",\n",
       " '  Putain',\n",
       " \" j'ai toujours grandi dans le chahut \",\n",
       " \"  Et trop tôt j'ai quitté le bahut \",\n",
       " '  Je connais tous les coins de ma rue ',\n",
       " \"  Sur la tête du petit que j'ai pas eu \"]"
      ]
     },
     "execution_count": 32,
     "metadata": {},
     "output_type": "execute_result"
    }
   ],
   "source": [
    "sentences"
   ]
  },
  {
   "cell_type": "code",
   "execution_count": 33,
   "metadata": {},
   "outputs": [
    {
     "name": "stdout",
     "output_type": "stream",
     "text": [
      " Je sais que j'ai fait du mal ----------------------------------- {'neg': 0.0, 'neu': 1.0, 'pos': 0.0, 'compound': 0.0}\n",
      "  Je sais que j'ai fait du sale --------------------------------- {'neg': 0.0, 'neu': 1.0, 'pos': 0.0, 'compound': 0.0}\n",
      "  Quand je dormais dans la cave --------------------------------- {'neg': 0.0, 'neu': 1.0, 'pos': 0.0, 'compound': 0.0}\n",
      "  J'ai vu maman verser des larmes ------------------------------- {'neg': 0.0, 'neu': 1.0, 'pos': 0.0, 'compound': 0.0}\n",
      "  J'ai assisté au drame ----------------------------------------- {'neg': 0.0, 'neu': 1.0, 'pos': 0.0, 'compound': 0.0}\n",
      "  De la drogue et des armes ------------------------------------- {'neg': 0.0, 'neu': 1.0, 'pos': 0.0, 'compound': 0.0}\n",
      "  Des mecs qui se faisaient découper ---------------------------- {'neg': 0.0, 'neu': 1.0, 'pos': 0.0, 'compound': 0.0}\n",
      "  Comme des jambons de Parme ------------------------------------ {'neg': 0.0, 'neu': 1.0, 'pos': 0.0, 'compound': 0.0}\n",
      "  Motherfucker bang bang c'est comme ça dans ma rue ------------- {'neg': 0.365, 'neu': 0.635, 'pos': 0.0, 'compound': -0.6808}\n",
      "  Je pourrais prendre perpet' j'suis bourré quand j'allume ------ {'neg': 0.0, 'neu': 1.0, 'pos': 0.0, 'compound': 0.0}\n",
      "  Mes tits-pe mettent des Play 4 dans des sacs en alu' ---------- {'neg': 0.0, 'neu': 0.806, 'pos': 0.194, 'compound': 0.34}\n",
      "  On arrive et on fait l'taff propre et sans bavure (Bendo !) --- {'neg': 0.0, 'neu': 1.0, 'pos': 0.0, 'compound': 0.0}\n",
      "  Tous les jours je fais l'cash---------------------------------- {'neg': 0.0, 'neu': 1.0, 'pos': 0.0, 'compound': 0.0}\n",
      " bah ouais j'ai d'l'allure -------------------------------------- {'neg': 0.0, 'neu': 1.0, 'pos': 0.0, 'compound': 0.0}\n",
      "  J'suis ruché avec mes gangstas fonce-dé sur la lune ----------- {'neg': 0.0, 'neu': 1.0, 'pos': 0.0, 'compound': 0.0}\n",
      "  On a fumé d'la ganja------------------------------------------- {'neg': 0.0, 'neu': 1.0, 'pos': 0.0, 'compound': 0.0}\n",
      " igo j'suis dans ma bulle --------------------------------------- {'neg': 0.0, 'neu': 1.0, 'pos': 0.0, 'compound': 0.0}\n",
      "  Nous invite pas à ta fiesta------------------------------------ {'neg': 0.0, 'neu': 0.46, 'pos': 0.54, 'compound': 0.5719}\n",
      " on va t'niquer ta pute ----------------------------------------- {'neg': 0.0, 'neu': 1.0, 'pos': 0.0, 'compound': 0.0}\n",
      "  Dix grammes de zeb' dans le cerveau --------------------------- {'neg': 0.0, 'neu': 1.0, 'pos': 0.0, 'compound': 0.0}\n",
      "  Vingt grammes de shit dans le calecif ------------------------- {'neg': 0.375, 'neu': 0.625, 'pos': 0.0, 'compound': -0.5574}\n",
      "  Ouais tous mes rabzas------------------------------------------ {'neg': 0.0, 'neu': 1.0, 'pos': 0.0, 'compound': 0.0}\n",
      " mes négros ----------------------------------------------------- {'neg': 0.0, 'neu': 1.0, 'pos': 0.0, 'compound': 0.0}\n",
      "  Sont dans le vol et le trafic --------------------------------- {'neg': 0.0, 'neu': 1.0, 'pos': 0.0, 'compound': 0.0}\n",
      "  Nique sa mère la juge et son pote le proc' -------------------- {'neg': 0.0, 'neu': 1.0, 'pos': 0.0, 'compound': 0.0}\n",
      "  Vite amène la thune ou je sors le glock ----------------------- {'neg': 0.0, 'neu': 1.0, 'pos': 0.0, 'compound': 0.0}\n",
      "  Cigarette allumée --------------------------------------------- {'neg': 0.0, 'neu': 1.0, 'pos': 0.0, 'compound': 0.0}\n",
      "  J'inhalais ma fumée ------------------------------------------- {'neg': 0.0, 'neu': 1.0, 'pos': 0.0, 'compound': 0.0}\n",
      "  Tranquillement et v'la qu'les porcs me coffrent --------------- {'neg': 0.0, 'neu': 1.0, 'pos': 0.0, 'compound': 0.0}\n",
      "  Putain--------------------------------------------------------- {'neg': 0.0, 'neu': 1.0, 'pos': 0.0, 'compound': 0.0}\n",
      " j'ai toujours grandi dans le chahut ---------------------------- {'neg': 0.0, 'neu': 1.0, 'pos': 0.0, 'compound': 0.0}\n",
      "  Et trop tôt j'ai quitté le bahut ------------------------------ {'neg': 0.0, 'neu': 1.0, 'pos': 0.0, 'compound': 0.0}\n",
      "  Je connais tous les coins de ma rue --------------------------- {'neg': 0.0, 'neu': 1.0, 'pos': 0.0, 'compound': 0.0}\n",
      "  Sur la tête du petit que j'ai pas eu -------------------------- {'neg': 0.0, 'neu': 1.0, 'pos': 0.0, 'compound': 0.0}\n"
     ]
    }
   ],
   "source": [
    "analyzer = SentimentIntensityAnalyzer()\n",
    "for sentence in sentences:\n",
    "    vs = analyzer.polarity_scores(sentence)\n",
    "    print(\"{:-<65} {}\".format(sentence, str(vs)))"
   ]
  }
 ],
 "metadata": {
  "kernelspec": {
   "display_name": "conda_pytorch_p36",
   "language": "python",
   "name": "conda_pytorch_p36"
  },
  "language_info": {
   "codemirror_mode": {
    "name": "ipython",
    "version": 3
   },
   "file_extension": ".py",
   "mimetype": "text/x-python",
   "name": "python",
   "nbconvert_exporter": "python",
   "pygments_lexer": "ipython3",
   "version": "3.6.5"
  }
 },
 "nbformat": 4,
 "nbformat_minor": 4
}
